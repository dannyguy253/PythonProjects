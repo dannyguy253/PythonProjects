{
 "cells": [
  {
   "cell_type": "markdown",
   "id": "9d855fc2",
   "metadata": {},
   "source": [
    "In this project, we are creating an automatic file sorter.\n",
    "\n",
    "In a folder, we will categorize the files by file type."
   ]
  },
  {
   "cell_type": "code",
   "execution_count": 1,
   "id": "d3f1b0d0",
   "metadata": {},
   "outputs": [],
   "source": [
    "import os, shutil"
   ]
  },
  {
   "cell_type": "code",
   "execution_count": 5,
   "id": "e2758efc",
   "metadata": {},
   "outputs": [],
   "source": [
    "path = r'C:\\Users\\dlam1\\Analyst Builder\\Python Programming for Beginners\\Projects\\Automatic_Sorter\\\\'"
   ]
  },
  {
   "cell_type": "markdown",
   "id": "58a79073",
   "metadata": {},
   "source": [
    "list of directories in our file path (folder)"
   ]
  },
  {
   "cell_type": "code",
   "execution_count": 6,
   "id": "4aaf1d70",
   "metadata": {
    "scrolled": true
   },
   "outputs": [
    {
     "data": {
      "text/plain": [
       "['CSVFile.csv',\n",
       " 'FakeFile.csv',\n",
       " 'FakeFile.txt',\n",
       " 'Max.png',\n",
       " 'NewFile.tsv',\n",
       " 'NewFile.txt',\n",
       " 'Rosie.png']"
      ]
     },
     "execution_count": 6,
     "metadata": {},
     "output_type": "execute_result"
    }
   ],
   "source": [
    "os.listdir(path)"
   ]
  },
  {
   "cell_type": "code",
   "execution_count": null,
   "id": "6648e60e",
   "metadata": {},
   "outputs": [],
   "source": [
    "# For example, we will make folders like this:\n",
    "# os.makedirs(path + new_folder_name)"
   ]
  },
  {
   "cell_type": "code",
   "execution_count": 7,
   "id": "e82721e1",
   "metadata": {},
   "outputs": [],
   "source": [
    "folder_names = ['CSV Files', 'Text Files', 'Image Files']\n",
    "# We want to make directories that has a path like this:\n",
    "# C:\\Users\\dlam1\\Analyst Builder\\Python Programming for Beginners\\Projects\\Automatic_Sorter\\Image Files\n",
    "for folder in folder_names:\n",
    "    if not os.path.exists(path + folder):\n",
    "        os.makedirs(path + folder)"
   ]
  },
  {
   "cell_type": "code",
   "execution_count": 8,
   "id": "470fde0b",
   "metadata": {},
   "outputs": [
    {
     "data": {
      "text/plain": [
       "['CSV Files',\n",
       " 'CSVFile.csv',\n",
       " 'FakeFile.csv',\n",
       " 'FakeFile.txt',\n",
       " 'Image Files',\n",
       " 'Max.png',\n",
       " 'NewFile.tsv',\n",
       " 'NewFile.txt',\n",
       " 'Rosie.png',\n",
       " 'Text Files']"
      ]
     },
     "execution_count": 8,
     "metadata": {},
     "output_type": "execute_result"
    }
   ],
   "source": [
    "os.listdir(path)"
   ]
  },
  {
   "cell_type": "code",
   "execution_count": 9,
   "id": "2d376126",
   "metadata": {},
   "outputs": [],
   "source": [
    "file_names = os.listdir(path)\n",
    "# path = r'C:\\Users\\dlam1\\Analyst Builder\\Python Programming for Beginners\\Projects\\Automatic_Sorter\\\\'"
   ]
  },
  {
   "cell_type": "code",
   "execution_count": 12,
   "id": "f8950e8a",
   "metadata": {},
   "outputs": [],
   "source": [
    "for file in file_names:\n",
    "    if \".csv\" in file and not os.path.exists(path + \"CSV Files\\\\\" + file):\n",
    "        # move that file to CSV Files folder if it was not in it\n",
    "        shutil.move(path + file, path + \"CSV Files\\\\\" + file)\n",
    "    elif \".png\" in file and not os.path.exists(path + \"Image Files\\\\\" + file):\n",
    "        # move that file to Image Files folder if it was not in it\n",
    "        shutil.move(path + file, path + \"Image Files\\\\\" + file)\n",
    "    elif \".txt\" in file and not os.path.exists(path + \"Text Files\\\\\" + file):\n",
    "        # move that file to Text Files folder if it was not in it\n",
    "        shutil.move(path + file, path + \"Text Files\\\\\" + file)\n",
    "        "
   ]
  },
  {
   "cell_type": "code",
   "execution_count": null,
   "id": "937a5995",
   "metadata": {},
   "outputs": [],
   "source": []
  },
  {
   "cell_type": "code",
   "execution_count": 13,
   "id": "61b96d89",
   "metadata": {},
   "outputs": [],
   "source": [
    "path = r'C:\\Users\\dlam1\\Analyst Builder\\Python Programming for Beginners\\Projects\\Automatic_Sorter\\\\'\n",
    "\n",
    "folder_names = ['CSV Files', 'Text Files', 'Image Files']\n",
    "\n",
    "for folder in folder_names:\n",
    "    if not os.path.exists(path + folder):\n",
    "        os.makedirs(path + folder)\n",
    "        \n",
    "file_names = os.listdir(path)\n",
    "\n",
    "\n",
    "for file in file_names:\n",
    "    if \".csv\" in file and not os.path.exists(path + \"CSV Files\\\\\" + file):\n",
    "        # move that file to CSV Files folder if it was not in it\n",
    "        shutil.move(path + file, path + \"CSV Files\\\\\" + file)\n",
    "    elif \".png\" in file and not os.path.exists(path + \"Image Files\\\\\" + file):\n",
    "        # move that file to Image Files folder if it was not in it\n",
    "        shutil.move(path + file, path + \"Image Files\\\\\" + file)\n",
    "    elif \".txt\" in file and not os.path.exists(path + \"Text Files\\\\\" + file):\n",
    "        # move that file to Text Files folder if it was not in it\n",
    "        shutil.move(path + file, path + \"Text Files\\\\\" + file)\n",
    "        "
   ]
  },
  {
   "cell_type": "code",
   "execution_count": null,
   "id": "65f4c809",
   "metadata": {},
   "outputs": [],
   "source": []
  },
  {
   "cell_type": "code",
   "execution_count": null,
   "id": "838c8104",
   "metadata": {},
   "outputs": [],
   "source": []
  },
  {
   "cell_type": "code",
   "execution_count": null,
   "id": "29edfe11",
   "metadata": {},
   "outputs": [],
   "source": []
  },
  {
   "cell_type": "code",
   "execution_count": null,
   "id": "2b483b91",
   "metadata": {},
   "outputs": [],
   "source": []
  },
  {
   "cell_type": "code",
   "execution_count": null,
   "id": "4e17ff44",
   "metadata": {},
   "outputs": [],
   "source": []
  },
  {
   "cell_type": "code",
   "execution_count": null,
   "id": "f63cd326",
   "metadata": {},
   "outputs": [],
   "source": []
  },
  {
   "cell_type": "code",
   "execution_count": null,
   "id": "8a6ab8ea",
   "metadata": {},
   "outputs": [],
   "source": []
  },
  {
   "cell_type": "code",
   "execution_count": null,
   "id": "208a5699",
   "metadata": {},
   "outputs": [],
   "source": []
  },
  {
   "cell_type": "code",
   "execution_count": null,
   "id": "75ea8b9f",
   "metadata": {},
   "outputs": [],
   "source": []
  },
  {
   "cell_type": "code",
   "execution_count": null,
   "id": "04a753da",
   "metadata": {},
   "outputs": [],
   "source": []
  },
  {
   "cell_type": "code",
   "execution_count": null,
   "id": "f1e5b960",
   "metadata": {},
   "outputs": [],
   "source": []
  },
  {
   "cell_type": "code",
   "execution_count": null,
   "id": "3715f354",
   "metadata": {},
   "outputs": [],
   "source": []
  },
  {
   "cell_type": "code",
   "execution_count": null,
   "id": "1cdff86e",
   "metadata": {},
   "outputs": [],
   "source": []
  },
  {
   "cell_type": "code",
   "execution_count": null,
   "id": "bdbe0998",
   "metadata": {},
   "outputs": [],
   "source": []
  },
  {
   "cell_type": "code",
   "execution_count": null,
   "id": "48d89f7c",
   "metadata": {},
   "outputs": [],
   "source": []
  },
  {
   "cell_type": "code",
   "execution_count": null,
   "id": "bb81c95d",
   "metadata": {},
   "outputs": [],
   "source": []
  },
  {
   "cell_type": "code",
   "execution_count": null,
   "id": "22f5e1b4",
   "metadata": {},
   "outputs": [],
   "source": []
  },
  {
   "cell_type": "code",
   "execution_count": null,
   "id": "ea3b9538",
   "metadata": {},
   "outputs": [],
   "source": []
  },
  {
   "cell_type": "code",
   "execution_count": null,
   "id": "df36e4c7",
   "metadata": {},
   "outputs": [],
   "source": []
  }
 ],
 "metadata": {
  "kernelspec": {
   "display_name": "Python 3 (ipykernel)",
   "language": "python",
   "name": "python3"
  },
  "language_info": {
   "codemirror_mode": {
    "name": "ipython",
    "version": 3
   },
   "file_extension": ".py",
   "mimetype": "text/x-python",
   "name": "python",
   "nbconvert_exporter": "python",
   "pygments_lexer": "ipython3",
   "version": "3.9.7"
  }
 },
 "nbformat": 4,
 "nbformat_minor": 5
}
