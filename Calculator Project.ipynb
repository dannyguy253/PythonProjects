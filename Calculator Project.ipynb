{
 "cells": [
  {
   "cell_type": "markdown",
   "id": "fa6974ea",
   "metadata": {},
   "source": [
    "# Basic Calculator"
   ]
  },
  {
   "cell_type": "code",
   "execution_count": 18,
   "id": "e397d1b7",
   "metadata": {},
   "outputs": [
    {
     "name": "stdout",
     "output_type": "stream",
     "text": [
      "Enter 'A' for Addition.\n",
      "Enter 'S' for Subtraction.\n",
      "Enter 'M' for Multiplication.\n",
      "Enter 'D' for Division.\n",
      "Enter Choice: (A,S,M,D): a\n",
      "Enter first number: 1\n",
      "Enter second number: 2\n",
      "Result: 1.0 + 2.0 = 3.0\n",
      "Want to do another calculation? (yes/no?): n\n",
      "Thanks for using this calculator. Have a good day!\n"
     ]
    }
   ],
   "source": [
    "def add(x,y):\n",
    "    return x + y\n",
    "\n",
    "def subtract(x,y):\n",
    "    return x - y\n",
    "\n",
    "def multiply(x,y):\n",
    "    return x * y\n",
    "\n",
    "def divide(x,y):\n",
    "    if y == 0:\n",
    "        return \"Cannot divide by 0\"\n",
    "    return x / y\n",
    "\n",
    "\n",
    "print(\"Enter 'A' for Addition.\")\n",
    "print(\"Enter 'S' for Subtraction.\")\n",
    "print(\"Enter 'M' for Multiplication.\")\n",
    "print(\"Enter 'D' for Division.\")\n",
    "\n",
    "\n",
    "\n",
    "while True:\n",
    "    choice = input('Enter Choice: (A,S,M,D): ')\n",
    "    if choice.lower() in ['a','add','addition','s','subtract','subtraction','m',\n",
    "                          'multiplication','multiply','d','divide','division']:\n",
    "        num1 = float(input('Enter first number: ')) \n",
    "        num2 = float(input('Enter second number: ')) \n",
    "\n",
    "\n",
    "        if choice.lower() in ['a','add','addition']:\n",
    "            operator = '+'\n",
    "            ans = add(num1, num2)\n",
    "\n",
    "        elif choice.lower() in ['s','subtract','subtraction']:\n",
    "            operator = '-'\n",
    "            ans = subtract(num1, num2)\n",
    "        elif choice.lower() in ['m','multiplication','multiply']:\n",
    "            operator = '*'\n",
    "            ans = multiply(num1, num2)\n",
    "\n",
    "        elif choice.lower() in ['d','divide','division']:\n",
    "            operator = '/'\n",
    "            ans = divide(num1, num2)\n",
    "\n",
    "        print('Result:', num1, operator, num2, '=', ans)\n",
    "    \n",
    "    else:\n",
    "        print(\"Please input a correct choice.\")\n",
    "    \n",
    "    next_calculation = input(\"Want to do another calculation? (yes/no?): \")\n",
    "    if next_calculation.lower() in ('no','n','nope'):\n",
    "        print(\"Thanks for using this calculator. Have a good day!\")\n",
    "        break\n",
    "    \n",
    "    \n",
    "\n",
    "\n",
    "\n",
    "\n",
    "\n"
   ]
  },
  {
   "cell_type": "code",
   "execution_count": null,
   "id": "22a7992b",
   "metadata": {},
   "outputs": [],
   "source": []
  },
  {
   "cell_type": "code",
   "execution_count": null,
   "id": "c05e9141",
   "metadata": {},
   "outputs": [],
   "source": []
  },
  {
   "cell_type": "code",
   "execution_count": null,
   "id": "0abbe7b0",
   "metadata": {},
   "outputs": [],
   "source": []
  },
  {
   "cell_type": "code",
   "execution_count": null,
   "id": "e18702ec",
   "metadata": {},
   "outputs": [],
   "source": []
  },
  {
   "cell_type": "code",
   "execution_count": null,
   "id": "bdd304be",
   "metadata": {},
   "outputs": [],
   "source": []
  },
  {
   "cell_type": "code",
   "execution_count": null,
   "id": "207df7a3",
   "metadata": {},
   "outputs": [],
   "source": []
  },
  {
   "cell_type": "code",
   "execution_count": null,
   "id": "542621b1",
   "metadata": {},
   "outputs": [],
   "source": []
  },
  {
   "cell_type": "code",
   "execution_count": null,
   "id": "44b377d5",
   "metadata": {},
   "outputs": [],
   "source": []
  },
  {
   "cell_type": "code",
   "execution_count": null,
   "id": "a9318e4d",
   "metadata": {},
   "outputs": [],
   "source": []
  },
  {
   "cell_type": "code",
   "execution_count": null,
   "id": "20b225bd",
   "metadata": {},
   "outputs": [],
   "source": []
  },
  {
   "cell_type": "code",
   "execution_count": null,
   "id": "c2336790",
   "metadata": {},
   "outputs": [],
   "source": []
  },
  {
   "cell_type": "code",
   "execution_count": null,
   "id": "24f15cd0",
   "metadata": {},
   "outputs": [],
   "source": []
  },
  {
   "cell_type": "code",
   "execution_count": null,
   "id": "71a56596",
   "metadata": {},
   "outputs": [],
   "source": []
  },
  {
   "cell_type": "code",
   "execution_count": null,
   "id": "9e5365d3",
   "metadata": {},
   "outputs": [],
   "source": []
  },
  {
   "cell_type": "code",
   "execution_count": null,
   "id": "8ecc8582",
   "metadata": {},
   "outputs": [],
   "source": []
  },
  {
   "cell_type": "code",
   "execution_count": null,
   "id": "7f817e25",
   "metadata": {},
   "outputs": [],
   "source": []
  },
  {
   "cell_type": "code",
   "execution_count": null,
   "id": "adc779d8",
   "metadata": {},
   "outputs": [],
   "source": []
  },
  {
   "cell_type": "code",
   "execution_count": null,
   "id": "5f0cadff",
   "metadata": {},
   "outputs": [],
   "source": []
  }
 ],
 "metadata": {
  "kernelspec": {
   "display_name": "Python 3 (ipykernel)",
   "language": "python",
   "name": "python3"
  },
  "language_info": {
   "codemirror_mode": {
    "name": "ipython",
    "version": 3
   },
   "file_extension": ".py",
   "mimetype": "text/x-python",
   "name": "python",
   "nbconvert_exporter": "python",
   "pygments_lexer": "ipython3",
   "version": "3.9.7"
  }
 },
 "nbformat": 4,
 "nbformat_minor": 5
}
